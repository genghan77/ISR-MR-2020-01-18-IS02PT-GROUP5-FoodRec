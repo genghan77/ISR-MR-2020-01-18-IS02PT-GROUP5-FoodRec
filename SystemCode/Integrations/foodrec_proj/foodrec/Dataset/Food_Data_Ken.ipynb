{
 "nbformat": 4,
 "nbformat_minor": 2,
 "metadata": {
  "language_info": {
   "name": "python",
   "codemirror_mode": {
    "name": "ipython",
    "version": 3
   },
   "version": "3.8.1-final"
  },
  "orig_nbformat": 2,
  "file_extension": ".py",
  "mimetype": "text/x-python",
  "name": "python",
  "npconvert_exporter": "python",
  "pygments_lexer": "ipython3",
  "version": 3,
  "kernelspec": {
   "name": "python38164bita1a4c2a374ae48ce9faf888951115698",
   "display_name": "Python 3.8.1 64-bit"
  }
 },
 "cells": [
  {
   "cell_type": "code",
   "execution_count": 8,
   "metadata": {},
   "outputs": [],
   "source": [
    "import pandas as pd\n",
    "pd.set_option('display.max_colwidth', 0)"
   ]
  },
  {
   "cell_type": "code",
   "execution_count": 19,
   "metadata": {},
   "outputs": [],
   "source": [
    "df = pd.read_csv(\"FoodDatabase.csv\")"
   ]
  },
  {
   "cell_type": "code",
   "execution_count": 24,
   "metadata": {},
   "outputs": [
    {
     "output_type": "execute_result",
     "data": {
      "text/plain": "                             FoodName  FoodGroup             FoodSubGroup  \\\n0  2-in-1 coffee powder, with creamer  BEVERAGES  Non-alcoholic beverages   \n1  2-in-1 coffee powder, with sugar    BEVERAGES  Non-alcoholic beverages   \n\n  PerServingHouseholdMeasure  CarbohydrateAmount_g  CholesterolAmount_mg  \\\n0  Packet (12g)               7.79                  0.16                   \n1  Sachet (15g)               13.28                NaN                     \n\n   DietaryFibreAmount_g  EnergyAmount_kcal  GlycemicIndexAmount  \\\n0  0.46                  56.28             NaN                    \n1  1.20                  60.60             NaN                    \n\n   ProteinAmount_g  SugarAmount_g  MonounsaturatedFatAmount_g  \\\n0  0.82             1.28           0.33                         \n1  0.87             10.17          0.06                         \n\n   PolyunsaturatedFatAmount_g  SaturatedFatAmount_g  TotalFatAmount_g  \n0  0.04                        1.95                  2.44              \n1  0.17                        0.20                  0.45              ",
      "text/html": "<div>\n<style scoped>\n    .dataframe tbody tr th:only-of-type {\n        vertical-align: middle;\n    }\n\n    .dataframe tbody tr th {\n        vertical-align: top;\n    }\n\n    .dataframe thead th {\n        text-align: right;\n    }\n</style>\n<table border=\"1\" class=\"dataframe\">\n  <thead>\n    <tr style=\"text-align: right;\">\n      <th></th>\n      <th>FoodName</th>\n      <th>FoodGroup</th>\n      <th>FoodSubGroup</th>\n      <th>PerServingHouseholdMeasure</th>\n      <th>CarbohydrateAmount_g</th>\n      <th>CholesterolAmount_mg</th>\n      <th>DietaryFibreAmount_g</th>\n      <th>EnergyAmount_kcal</th>\n      <th>GlycemicIndexAmount</th>\n      <th>ProteinAmount_g</th>\n      <th>SugarAmount_g</th>\n      <th>MonounsaturatedFatAmount_g</th>\n      <th>PolyunsaturatedFatAmount_g</th>\n      <th>SaturatedFatAmount_g</th>\n      <th>TotalFatAmount_g</th>\n    </tr>\n  </thead>\n  <tbody>\n    <tr>\n      <th>0</th>\n      <td>2-in-1 coffee powder, with creamer</td>\n      <td>BEVERAGES</td>\n      <td>Non-alcoholic beverages</td>\n      <td>Packet (12g)</td>\n      <td>7.79</td>\n      <td>0.16</td>\n      <td>0.46</td>\n      <td>56.28</td>\n      <td>NaN</td>\n      <td>0.82</td>\n      <td>1.28</td>\n      <td>0.33</td>\n      <td>0.04</td>\n      <td>1.95</td>\n      <td>2.44</td>\n    </tr>\n    <tr>\n      <th>1</th>\n      <td>2-in-1 coffee powder, with sugar</td>\n      <td>BEVERAGES</td>\n      <td>Non-alcoholic beverages</td>\n      <td>Sachet (15g)</td>\n      <td>13.28</td>\n      <td>NaN</td>\n      <td>1.20</td>\n      <td>60.60</td>\n      <td>NaN</td>\n      <td>0.87</td>\n      <td>10.17</td>\n      <td>0.06</td>\n      <td>0.17</td>\n      <td>0.20</td>\n      <td>0.45</td>\n    </tr>\n  </tbody>\n</table>\n</div>"
     },
     "metadata": {},
     "execution_count": 24
    }
   ],
   "source": [
    "df.head(2)"
   ]
  },
  {
   "cell_type": "code",
   "execution_count": 28,
   "metadata": {},
   "outputs": [
    {
     "output_type": "execute_result",
     "data": {
      "text/plain": "                                                FoodName  \\\n0   2-in-1 coffee powder, with creamer                     \n1   2-in-1 coffee powder, with sugar                       \n2   3 in 1 ready to drink coffee instant                   \n3   3-in-1 cereal                                          \n4   3-in-1 coffee powder                                   \n5   3-in-1 coffee powder, less sugar, low fat (HCS)        \n6   3-in-1 coffee powder, low sugar                        \n7   3-in-1 instant cereal (HCS)                            \n8   3-in-1 tea, powder                                     \n9   4 in 1 brown rice cereal                               \n10  6-Inch Hearty Italian Bread, Subway                    \n11  6-Inch Honey Oat Bread, Subway                         \n12  6-Inch Italian (white) Bread, Subway                   \n13  6-Inch Parmesan Oregano Bread, Subway                  \n14  6-Inch Wheat Bread, Subway                             \n15  6-inch Ham Sandwich, Subway                            \n16  6-inch Italian BMT Sandwich, Subway                    \n17  6-inch Meatball Marinara Sandwich, Subway              \n18  6-inch Oven Roasted Chicken Breast Sandwich, Subway    \n19  6-inch Roast Beef Sandwich, Subway                     \n20  6-inch Spicy Italian Sandwich, Subway                  \n21  6-inch Steak and Cheese Sandwich, Subway               \n22  6-inch Subway Club Sandwich, Subway                    \n23  6-inch Subway Melt Sandwich, Subway                    \n24  6-inch Sweet Onion Chicken Teriyaki Sandwich, Subway   \n25  6-inch Tuna Sandwich, Subway                           \n26  6-inch Turkey Breast and Ham Sandwich, Subway          \n27  6-inch Turkey breast Sandwich, Subway                  \n28  6-inch Veggie Delite Sandwich, Subway                  \n29  Abalone noodles, soup                                  \n\n                                     FoodGroup  CarbohydrateAmount_g  \\\n0   BEVERAGES                                   7.79                   \n1   BEVERAGES                                   13.28                  \n2   BEVERAGES                                   14.16                  \n3   CEREAL AND CEREAL PRODUCTS                  13.11                  \n4   MIXED ETHNIC DISHES, ANALYZED IN SINGAPORE  9.31                   \n5   HEALTHIER CHOICE SYMBOL (HCS) PRODUCTS      14.74                  \n6   BEVERAGES                                   13.29                  \n7   HEALTHIER CHOICE SYMBOL (HCS) PRODUCTS      12.06                  \n8   MIXED ETHNIC DISHES, ANALYZED IN SINGAPORE  9.92                   \n9   CEREAL AND CEREAL PRODUCTS                  24.99                  \n10  FAST FOODS                                  37.00                  \n11  FAST FOODS                                  39.00                  \n12  FAST FOODS                                  34.00                  \n13  FAST FOODS                                  36.00                  \n14  FAST FOODS                                  32.00                  \n15  FAST FOODS                                  37.00                  \n16  FAST FOODS                                  38.01                  \n17  FAST FOODS                                  52.99                  \n18  FAST FOODS                                  40.94                  \n19  FAST FOODS                                  38.01                  \n20  FAST FOODS                                  38.08                  \n21  FAST FOODS                                  42.01                  \n22  FAST FOODS                                  38.98                  \n23  FAST FOODS                                  39.00                  \n24  FAST FOODS                                  50.01                  \n25  FAST FOODS                                  35.99                  \n26  FAST FOODS                                  38.00                  \n27  FAST FOODS                                  37.00                  \n28  FAST FOODS                                  35.01                  \n29  MIXED ETHNIC DISHES, ANALYZED IN SINGAPORE  32.68                  \n\n    EnergyAmount_kcal  ProteinAmount_g  TotalFatAmount_g  \n0   56.28              0.82             2.44              \n1   60.60              0.87             0.45              \n2   81.60              2.40             1.92              \n3   89.10              2.37             3.03              \n4   65.40              1.13             2.62              \n5   73.19              0.77             1.24              \n6   74.63              0.78             2.04              \n7   79.20              1.41             2.82              \n8   58.33              0.70             1.75              \n9   126.00             1.50             2.49              \n10  205.19             7.10             2.50              \n11  231.20             8.80             2.90              \n12  192.29             6.70             2.40              \n13  205.90             7.81             2.90              \n14  189.75             8.28             2.60              \n15  263.52             17.28            4.60              \n16  426.36             22.80            20.00             \n17  471.21             20.34            20.00             \n18  305.90             23.00            5.29              \n19  270.90             18.90            4.49              \n20  497.28             22.40            28.00             \n21  394.20             27.00            11.99             \n22  298.89             24.30            5.20              \n23  360.00             24.00            10.99             \n24  355.11             26.70            4.81              \n25  507.40             21.24            30.00             \n26  271.56             19.71            4.49              \n27  260.40             18.90            3.91              \n28  205.02             9.18             2.69              \n29  243.97             18.22            4.52              ",
      "text/html": "<div>\n<style scoped>\n    .dataframe tbody tr th:only-of-type {\n        vertical-align: middle;\n    }\n\n    .dataframe tbody tr th {\n        vertical-align: top;\n    }\n\n    .dataframe thead th {\n        text-align: right;\n    }\n</style>\n<table border=\"1\" class=\"dataframe\">\n  <thead>\n    <tr style=\"text-align: right;\">\n      <th></th>\n      <th>FoodName</th>\n      <th>FoodGroup</th>\n      <th>CarbohydrateAmount_g</th>\n      <th>EnergyAmount_kcal</th>\n      <th>ProteinAmount_g</th>\n      <th>TotalFatAmount_g</th>\n    </tr>\n  </thead>\n  <tbody>\n    <tr>\n      <th>0</th>\n      <td>2-in-1 coffee powder, with creamer</td>\n      <td>BEVERAGES</td>\n      <td>7.79</td>\n      <td>56.28</td>\n      <td>0.82</td>\n      <td>2.44</td>\n    </tr>\n    <tr>\n      <th>1</th>\n      <td>2-in-1 coffee powder, with sugar</td>\n      <td>BEVERAGES</td>\n      <td>13.28</td>\n      <td>60.60</td>\n      <td>0.87</td>\n      <td>0.45</td>\n    </tr>\n    <tr>\n      <th>2</th>\n      <td>3 in 1 ready to drink coffee instant</td>\n      <td>BEVERAGES</td>\n      <td>14.16</td>\n      <td>81.60</td>\n      <td>2.40</td>\n      <td>1.92</td>\n    </tr>\n    <tr>\n      <th>3</th>\n      <td>3-in-1 cereal</td>\n      <td>CEREAL AND CEREAL PRODUCTS</td>\n      <td>13.11</td>\n      <td>89.10</td>\n      <td>2.37</td>\n      <td>3.03</td>\n    </tr>\n    <tr>\n      <th>4</th>\n      <td>3-in-1 coffee powder</td>\n      <td>MIXED ETHNIC DISHES, ANALYZED IN SINGAPORE</td>\n      <td>9.31</td>\n      <td>65.40</td>\n      <td>1.13</td>\n      <td>2.62</td>\n    </tr>\n    <tr>\n      <th>5</th>\n      <td>3-in-1 coffee powder, less sugar, low fat (HCS)</td>\n      <td>HEALTHIER CHOICE SYMBOL (HCS) PRODUCTS</td>\n      <td>14.74</td>\n      <td>73.19</td>\n      <td>0.77</td>\n      <td>1.24</td>\n    </tr>\n    <tr>\n      <th>6</th>\n      <td>3-in-1 coffee powder, low sugar</td>\n      <td>BEVERAGES</td>\n      <td>13.29</td>\n      <td>74.63</td>\n      <td>0.78</td>\n      <td>2.04</td>\n    </tr>\n    <tr>\n      <th>7</th>\n      <td>3-in-1 instant cereal (HCS)</td>\n      <td>HEALTHIER CHOICE SYMBOL (HCS) PRODUCTS</td>\n      <td>12.06</td>\n      <td>79.20</td>\n      <td>1.41</td>\n      <td>2.82</td>\n    </tr>\n    <tr>\n      <th>8</th>\n      <td>3-in-1 tea, powder</td>\n      <td>MIXED ETHNIC DISHES, ANALYZED IN SINGAPORE</td>\n      <td>9.92</td>\n      <td>58.33</td>\n      <td>0.70</td>\n      <td>1.75</td>\n    </tr>\n    <tr>\n      <th>9</th>\n      <td>4 in 1 brown rice cereal</td>\n      <td>CEREAL AND CEREAL PRODUCTS</td>\n      <td>24.99</td>\n      <td>126.00</td>\n      <td>1.50</td>\n      <td>2.49</td>\n    </tr>\n    <tr>\n      <th>10</th>\n      <td>6-Inch Hearty Italian Bread, Subway</td>\n      <td>FAST FOODS</td>\n      <td>37.00</td>\n      <td>205.19</td>\n      <td>7.10</td>\n      <td>2.50</td>\n    </tr>\n    <tr>\n      <th>11</th>\n      <td>6-Inch Honey Oat Bread, Subway</td>\n      <td>FAST FOODS</td>\n      <td>39.00</td>\n      <td>231.20</td>\n      <td>8.80</td>\n      <td>2.90</td>\n    </tr>\n    <tr>\n      <th>12</th>\n      <td>6-Inch Italian (white) Bread, Subway</td>\n      <td>FAST FOODS</td>\n      <td>34.00</td>\n      <td>192.29</td>\n      <td>6.70</td>\n      <td>2.40</td>\n    </tr>\n    <tr>\n      <th>13</th>\n      <td>6-Inch Parmesan Oregano Bread, Subway</td>\n      <td>FAST FOODS</td>\n      <td>36.00</td>\n      <td>205.90</td>\n      <td>7.81</td>\n      <td>2.90</td>\n    </tr>\n    <tr>\n      <th>14</th>\n      <td>6-Inch Wheat Bread, Subway</td>\n      <td>FAST FOODS</td>\n      <td>32.00</td>\n      <td>189.75</td>\n      <td>8.28</td>\n      <td>2.60</td>\n    </tr>\n    <tr>\n      <th>15</th>\n      <td>6-inch Ham Sandwich, Subway</td>\n      <td>FAST FOODS</td>\n      <td>37.00</td>\n      <td>263.52</td>\n      <td>17.28</td>\n      <td>4.60</td>\n    </tr>\n    <tr>\n      <th>16</th>\n      <td>6-inch Italian BMT Sandwich, Subway</td>\n      <td>FAST FOODS</td>\n      <td>38.01</td>\n      <td>426.36</td>\n      <td>22.80</td>\n      <td>20.00</td>\n    </tr>\n    <tr>\n      <th>17</th>\n      <td>6-inch Meatball Marinara Sandwich, Subway</td>\n      <td>FAST FOODS</td>\n      <td>52.99</td>\n      <td>471.21</td>\n      <td>20.34</td>\n      <td>20.00</td>\n    </tr>\n    <tr>\n      <th>18</th>\n      <td>6-inch Oven Roasted Chicken Breast Sandwich, Subway</td>\n      <td>FAST FOODS</td>\n      <td>40.94</td>\n      <td>305.90</td>\n      <td>23.00</td>\n      <td>5.29</td>\n    </tr>\n    <tr>\n      <th>19</th>\n      <td>6-inch Roast Beef Sandwich, Subway</td>\n      <td>FAST FOODS</td>\n      <td>38.01</td>\n      <td>270.90</td>\n      <td>18.90</td>\n      <td>4.49</td>\n    </tr>\n    <tr>\n      <th>20</th>\n      <td>6-inch Spicy Italian Sandwich, Subway</td>\n      <td>FAST FOODS</td>\n      <td>38.08</td>\n      <td>497.28</td>\n      <td>22.40</td>\n      <td>28.00</td>\n    </tr>\n    <tr>\n      <th>21</th>\n      <td>6-inch Steak and Cheese Sandwich, Subway</td>\n      <td>FAST FOODS</td>\n      <td>42.01</td>\n      <td>394.20</td>\n      <td>27.00</td>\n      <td>11.99</td>\n    </tr>\n    <tr>\n      <th>22</th>\n      <td>6-inch Subway Club Sandwich, Subway</td>\n      <td>FAST FOODS</td>\n      <td>38.98</td>\n      <td>298.89</td>\n      <td>24.30</td>\n      <td>5.20</td>\n    </tr>\n    <tr>\n      <th>23</th>\n      <td>6-inch Subway Melt Sandwich, Subway</td>\n      <td>FAST FOODS</td>\n      <td>39.00</td>\n      <td>360.00</td>\n      <td>24.00</td>\n      <td>10.99</td>\n    </tr>\n    <tr>\n      <th>24</th>\n      <td>6-inch Sweet Onion Chicken Teriyaki Sandwich, Subway</td>\n      <td>FAST FOODS</td>\n      <td>50.01</td>\n      <td>355.11</td>\n      <td>26.70</td>\n      <td>4.81</td>\n    </tr>\n    <tr>\n      <th>25</th>\n      <td>6-inch Tuna Sandwich, Subway</td>\n      <td>FAST FOODS</td>\n      <td>35.99</td>\n      <td>507.40</td>\n      <td>21.24</td>\n      <td>30.00</td>\n    </tr>\n    <tr>\n      <th>26</th>\n      <td>6-inch Turkey Breast and Ham Sandwich, Subway</td>\n      <td>FAST FOODS</td>\n      <td>38.00</td>\n      <td>271.56</td>\n      <td>19.71</td>\n      <td>4.49</td>\n    </tr>\n    <tr>\n      <th>27</th>\n      <td>6-inch Turkey breast Sandwich, Subway</td>\n      <td>FAST FOODS</td>\n      <td>37.00</td>\n      <td>260.40</td>\n      <td>18.90</td>\n      <td>3.91</td>\n    </tr>\n    <tr>\n      <th>28</th>\n      <td>6-inch Veggie Delite Sandwich, Subway</td>\n      <td>FAST FOODS</td>\n      <td>35.01</td>\n      <td>205.02</td>\n      <td>9.18</td>\n      <td>2.69</td>\n    </tr>\n    <tr>\n      <th>29</th>\n      <td>Abalone noodles, soup</td>\n      <td>MIXED ETHNIC DISHES, ANALYZED IN SINGAPORE</td>\n      <td>32.68</td>\n      <td>243.97</td>\n      <td>18.22</td>\n      <td>4.52</td>\n    </tr>\n  </tbody>\n</table>\n</div>"
     },
     "metadata": {},
     "execution_count": 28
    }
   ],
   "source": [
    "df[['FoodName','FoodGroup','CarbohydrateAmount_g','EnergyAmount_kcal','ProteinAmount_g','TotalFatAmount_g']].head(30)"
   ]
  },
  {
   "cell_type": "code",
   "execution_count": 22,
   "metadata": {},
   "outputs": [
    {
     "output_type": "execute_result",
     "data": {
      "text/plain": "array([['2-in-1 coffee powder, with creamer', 'BEVERAGES',\n        'Non-alcoholic beverages', 'Packet (12g)', 7.79, 0.16, 0.46,\n        56.28, nan, 0.82, 1.28, 0.33, 0.04, 1.95, 2.44],\n       ['2-in-1 coffee powder, with sugar', 'BEVERAGES',\n        'Non-alcoholic beverages', 'Sachet (15g)', 13.28, nan, 1.2, 60.6,\n        nan, 0.87, 10.17, 0.06, 0.17, 0.2, 0.45],\n       ['3 in 1 ready to drink coffee instant', 'BEVERAGES',\n        'Non-alcoholic beverages', 'Can (240g)', 14.16, 3.36, 0.24, 81.6,\n        nan, 2.4, 14.16, 0.34, 0.05, 1.3, 1.92],\n       ['3-in-1 cereal', 'CEREAL AND CEREAL PRODUCTS',\n        'Breakfast cereals', 'Sachet (30g)', 13.11, 1.8, 1.17, 89.1,\n        23.1, 2.37, 5.91, 0.9, 0.21, 1.74, 3.03],\n       ['3-in-1 coffee powder',\n        'MIXED ETHNIC DISHES, ANALYZED IN SINGAPORE', 'Beverages',\n        'Sachet (20g)', 9.31, 0.5, 0.0, 65.4, nan, 1.13, 9.31, 0.24,\n        0.02, 2.22, 2.62],\n       ['3-in-1 coffee powder, less sugar, low fat (HCS)',\n        'HEALTHIER CHOICE SYMBOL (HCS) PRODUCTS',\n        'Beverages and sweetened drinks', 'Packet (18g)', 14.74, 0.0,\n        0.54, 73.19, nan, 0.77, 4.9, 0.11, 0.01, 0.72, 1.24],\n       ['3-in-1 coffee powder, low sugar', 'BEVERAGES',\n        'Non-alcoholic beverages', 'Sachet (17g)', 13.29, nan, 0.6,\n        74.63, nan, 0.78, 5.24, 0.0, 0.0, 1.95, 2.04],\n       ['3-in-1 instant cereal (HCS)',\n        'HEALTHIER CHOICE SYMBOL (HCS) PRODUCTS', 'Others',\n        'Packet (30g)', 12.06, 0.0, 1.68, 79.2, nan, 1.41, 10.77, 0.06,\n        0.09, 2.6, 2.82],\n       ['3-in-1 tea, powder',\n        'MIXED ETHNIC DISHES, ANALYZED IN SINGAPORE', 'Beverages',\n        'Sachet (19g)', 9.92, 1.14, 0.61, 58.33, nan, 0.7, 9.92, 0.48,\n        0.02, 1.18, 1.75],\n       ['4 in 1 brown rice cereal', 'CEREAL AND CEREAL PRODUCTS',\n        'Breakfast cereals', 'Sachet (30g)', 24.99, 0.0, 1.11, 126.0,\n        nan, 1.5, 8.91, 0.06, 0.08, 1.8, 2.49]], dtype=object)"
     },
     "metadata": {},
     "execution_count": 22
    }
   ],
   "source": [
    "data = df.head(10).to_numpy()\n",
    "data"
   ]
  }
 ]
}